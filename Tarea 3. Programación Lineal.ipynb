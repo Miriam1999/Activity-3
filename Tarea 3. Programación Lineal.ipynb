{
 "cells": [
  {
   "cell_type": "code",
   "execution_count": 16,
   "metadata": {},
   "outputs": [],
   "source": [
    "import numpy as np"
   ]
  },
  {
   "cell_type": "code",
   "execution_count": 17,
   "metadata": {},
   "outputs": [],
   "source": [
    "import scipy.optimize as opt"
   ]
  },
  {
   "cell_type": "code",
   "execution_count": 18,
   "metadata": {},
   "outputs": [],
   "source": [
    "c=np.array([2,3,4,1,5,3,2,2,1,1])\n",
    "A=np.array([[1,0,1,0,1,0,1,0,1,0],[0,1,0,1,0,1,0,1,0,1],[-1,-1,0,0,0,0,0,0,0,0],[0,0,-1,-1,0,0,0,0,0,0],[0,0,0,0,-1,-1,0,0,0,0],\\\n",
    "            [0,0,0,0,0,0,-1,-1,0,0],[0,0,0,0,0,0,0,0,-1,-1]])\n",
    "b=np.array([1000,4000,-500,-900,-1800,-200,-700])"
   ]
  },
  {
   "cell_type": "code",
   "execution_count": 19,
   "metadata": {},
   "outputs": [
    {
     "data": {
      "text/plain": [
       "(array([[ 1,  0,  1,  0,  1,  0,  1,  0,  1,  0],\n",
       "        [ 0,  1,  0,  1,  0,  1,  0,  1,  0,  1],\n",
       "        [-1, -1,  0,  0,  0,  0,  0,  0,  0,  0],\n",
       "        [ 0,  0, -1, -1,  0,  0,  0,  0,  0,  0],\n",
       "        [ 0,  0,  0,  0, -1, -1,  0,  0,  0,  0],\n",
       "        [ 0,  0,  0,  0,  0,  0, -1, -1,  0,  0],\n",
       "        [ 0,  0,  0,  0,  0,  0,  0,  0, -1, -1]]),\n",
       " array([ 1000,  4000,  -500,  -900, -1800,  -200,  -700]),\n",
       " array([2, 3, 4, 1, 5, 3, 2, 2, 1, 1]))"
      ]
     },
     "execution_count": 19,
     "metadata": {},
     "output_type": "execute_result"
    }
   ],
   "source": [
    "A,b,c"
   ]
  },
  {
   "cell_type": "code",
   "execution_count": 20,
   "metadata": {},
   "outputs": [
    {
     "name": "stdout",
     "output_type": "stream",
     "text": [
      "Optimization terminated successfully.\n",
      "         Current function value: 8400.000000 \n",
      "         Iterations: 11\n"
     ]
    }
   ],
   "source": [
    "res=opt.linprog(c,A_ub=A,b_ub=b,options={'disp':True})"
   ]
  },
  {
   "cell_type": "code",
   "execution_count": 21,
   "metadata": {},
   "outputs": [
    {
     "data": {
      "text/plain": [
       "     fun: 8400.0\n",
       " message: 'Optimization terminated successfully.'\n",
       "     nit: 11\n",
       "   slack: array([  0., 900.,   0.,   0.,   0.,   0.,   0.])\n",
       "  status: 0\n",
       " success: True\n",
       "       x: array([ 500.,    0.,    0.,  900.,    0., 1800.,    0.,  200.,  500.,\n",
       "        200.])"
      ]
     },
     "execution_count": 21,
     "metadata": {},
     "output_type": "execute_result"
    }
   ],
   "source": [
    "res"
   ]
  },
  {
   "cell_type": "code",
   "execution_count": 22,
   "metadata": {},
   "outputs": [
    {
     "data": {
      "text/plain": [
       "array([ 500.,    0.,    0.,  900.,    0., 1800.,    0.,  200.,  500.,\n",
       "        200.])"
      ]
     },
     "execution_count": 22,
     "metadata": {},
     "output_type": "execute_result"
    }
   ],
   "source": [
    "res.x"
   ]
  },
  {
   "cell_type": "markdown",
   "metadata": {},
   "source": [
    "**Por lo tanto, las respuestas son:**\n",
    "\n",
    "$X_1=500$ cajas de cerveza Modelo para el bar 1.\n",
    "\n",
    "$X_2=0$ cajas de cerveza Cuauhtémoc Moctezuma para el bar 1.\n",
    "\n",
    "$X_3=0$ cajas de cerveza Modelo para el bar 2.\n",
    "\n",
    "$X_4=900$ cajas de cerveza Cuauhtémoc Moctezuma para el bar 2.\n",
    "\n",
    "$X_5=0$ cajas de cerveza Modelo para el bar 3.\n",
    "\n",
    "$X_6=1800$ cajas de cerveza Cuauhtémoc Moctezuma para el bar 3.\n",
    "\n",
    "$X_7=0$ cajas de cerveza Modelo para el bar 4.\n",
    "\n",
    "$X_8=200$ cajas de cerveza Cuauhtémoc Moctezuma para el bar 4.\n",
    "\n",
    "$X_9=500$ cajas de cerveza Modelo para el bar 5.\n",
    "\n",
    "$X_10=200$ cajas de cerveza Cuauhtémoc Moctezuma para el bar 5."
   ]
  }
 ],
 "metadata": {
  "kernelspec": {
   "display_name": "Python 3",
   "language": "python",
   "name": "python3"
  },
  "language_info": {
   "codemirror_mode": {
    "name": "ipython",
    "version": 3
   },
   "file_extension": ".py",
   "mimetype": "text/x-python",
   "name": "python",
   "nbconvert_exporter": "python",
   "pygments_lexer": "ipython3",
   "version": "3.6.5"
  }
 },
 "nbformat": 4,
 "nbformat_minor": 2
}
